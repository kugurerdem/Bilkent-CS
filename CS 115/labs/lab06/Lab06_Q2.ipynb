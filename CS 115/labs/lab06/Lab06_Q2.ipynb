{
 "cells": [
  {
   "cell_type": "markdown",
   "metadata": {},
   "source": [
    "## <font color=red>** Question 2**</font> \n",
    "### You will use numpy arrays to store and manipulate data from files.  Complete the steps listed below:"
   ]
  },
  {
   "cell_type": "markdown",
   "metadata": {},
   "source": [
    "import numpy for use in your code"
   ]
  },
  {
   "cell_type": "code",
   "execution_count": 11,
   "metadata": {},
   "outputs": [],
   "source": [
    "import numpy as np\n",
    "import statistics\n"
   ]
  },
  {
   "cell_type": "markdown",
   "metadata": {},
   "source": [
    "Read data from the files temperatures.txt, which contains the average temperatures of 3 cities in 2017, and heating_cost.txt, which stores the average heating costs per month for the same cities into two numpy arrays."
   ]
  },
  {
   "cell_type": "code",
   "execution_count": 23,
   "metadata": {},
   "outputs": [],
   "source": [
    "temperatures = np.loadtxt('temperatures.txt', dtype='float')"
   ]
  },
  {
   "cell_type": "markdown",
   "metadata": {},
   "source": [
    "Display the average yearly temperature and heating cost for each city.  You can use the function mean() defined in the statistics module."
   ]
  },
  {
   "cell_type": "code",
   "execution_count": 13,
   "metadata": {},
   "outputs": [
    {
     "name": "stdout",
     "output_type": "stream",
     "text": [
      "16\n",
      "20\n",
      "25\n"
     ]
    }
   ],
   "source": [
    "for temperature_list in temperatures:\n",
    "    print( statistics.mean( temperature_list))"
   ]
  },
  {
   "cell_type": "markdown",
   "metadata": {},
   "source": [
    "The projected temperatures will increase by 10%.  Create a new array and store the increased temperatures and display the increased temperatures."
   ]
  },
  {
   "cell_type": "code",
   "execution_count": 24,
   "metadata": {},
   "outputs": [
    {
     "name": "stdout",
     "output_type": "stream",
     "text": [
      "[[-1.  3. 10. 16. 20. 27. 31. 30. 26. 20. 12.  2.]\n",
      " [-2. 15. 18. 22. 28. 30. 34. 32. 29. 20. 10.  4.]\n",
      " [12. 15. 20. 26. 28. 30. 35. 40. 38. 32. 20. 10.]]\n",
      "[[-1.1  3.3 11.  17.6 22.  29.7 34.1 33.  28.6 22.  13.2  2.2]\n",
      " [-2.2 16.5 19.8 24.2 30.8 33.  37.4 35.2 31.9 22.  11.   4.4]\n",
      " [13.2 16.5 22.  28.6 30.8 33.  38.5 44.  41.8 35.2 22.  11. ]]\n"
     ]
    }
   ],
   "source": [
    "increased_temperatures = np.array( temperatures)\n",
    "for i in range( len(increased_temperatures) ):\n",
    "    for j in range( len(increased_temperatures[i ]) ):\n",
    "        increased_temperatures[i][j] *= 1.1\n",
    "\n",
    "print( temperatures)\n",
    "print( increased_temperatures)"
   ]
  },
  {
   "cell_type": "markdown",
   "metadata": {},
   "source": [
    "For each 1 degree temperature increase, the heating costs increases by 50TL. Store the increase amount for each month in a new array and display the results."
   ]
  },
  {
   "cell_type": "code",
   "execution_count": 44,
   "metadata": {
    "scrolled": true
   },
   "outputs": [
    {
     "name": "stdout",
     "output_type": "stream",
     "text": [
      "[[  5.  15.  50.  80. 100. 135. 155. 150. 130. 100.  60.  10.]\n",
      " [ 10.  75.  90. 110. 140. 150. 170. 160. 145. 100.  50.  20.]\n",
      " [ 60.  75. 100. 130. 140. 150. 175. 200. 190. 160. 100.  50.]]\n"
     ]
    }
   ],
   "source": [
    "temp_increase = 0\n",
    "increases = np.array( increased_temperatures)\n",
    "for i in range( len(increased_temperatures)):\n",
    "    for j in range( len(increased_temperatures[i])):\n",
    "        increases[i][j] = abs(increased_temperatures[i][j] - temperatures[i][j]) * 50\n",
    "\n",
    "print( increases)"
   ]
  },
  {
   "cell_type": "markdown",
   "metadata": {},
   "source": [
    "Update the heating costs using the data from the previous step and store in a new array.  Output the increased heating costs to the file updated_heating.txt."
   ]
  },
  {
   "cell_type": "code",
   "execution_count": 45,
   "metadata": {},
   "outputs": [
    {
     "name": "stdout",
     "output_type": "stream",
     "text": [
      "[[655. 515. 500. 280. 200. 335. 405. 500. 330. 200. 510. 560.]\n",
      " [680. 625. 490. 360. 250. 330. 320. 410. 425. 190. 600. 670.]\n",
      " [410. 375. 320. 230. 240. 250. 325. 380. 460. 490. 500. 500.]]\n"
     ]
    }
   ],
   "source": [
    "heating_costs = np.loadtxt(\"heating_cost.txt\", skiprows = 2)\n",
    "increased_heating_costs = heating_costs + increases\n",
    "np.savetxt(\"heating_cost.txt\", increased_heating_costs)\n",
    "\n",
    "print( increased_heating_costs)"
   ]
  },
  {
   "cell_type": "markdown",
   "metadata": {},
   "source": [
    "Calculate and display the average percent increase in the heating costs for each city."
   ]
  },
  {
   "cell_type": "code",
   "execution_count": 54,
   "metadata": {},
   "outputs": [
    {
     "name": "stdout",
     "output_type": "stream",
     "text": [
      "Average percent increase in the City 1 is : % 42.28241665741667\n",
      "Average percent increase in the City 2 is : % 53.71941270448737\n",
      "Average percent increase in the City 3 is : % 74.19512586179256\n"
     ]
    }
   ],
   "source": [
    "for i in range( len(heating_costs) ):\n",
    "    incs = []\n",
    "    for j in range( len(heating_costs[i])):\n",
    "        old_cost = heating_costs[i][j]\n",
    "        new_cost = increased_heating_costs[i][j]\n",
    "        inc = ((new_cost/old_cost) - 1) * 100\n",
    "        incs.append( inc)\n",
    "    \n",
    "    av = statistics.mean( incs)\n",
    "    \n",
    "    print(\"Average percent increase in the City {} is : % {}\".format( i+1, av) )"
   ]
  },
  {
   "cell_type": "code",
   "execution_count": null,
   "metadata": {},
   "outputs": [],
   "source": []
  },
  {
   "cell_type": "code",
   "execution_count": null,
   "metadata": {},
   "outputs": [],
   "source": []
  }
 ],
 "metadata": {
  "kernelspec": {
   "display_name": "Python 3",
   "language": "python",
   "name": "python3"
  },
  "language_info": {
   "codemirror_mode": {
    "name": "ipython",
    "version": 3
   },
   "file_extension": ".py",
   "mimetype": "text/x-python",
   "name": "python",
   "nbconvert_exporter": "python",
   "pygments_lexer": "ipython3",
   "version": "3.7.1"
  }
 },
 "nbformat": 4,
 "nbformat_minor": 2
}
